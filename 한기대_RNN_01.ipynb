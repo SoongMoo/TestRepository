{
  "nbformat": 4,
  "nbformat_minor": 0,
  "metadata": {
    "colab": {
      "name": "Untitled30.ipynb",
      "provenance": []
    },
    "kernelspec": {
      "name": "python3",
      "display_name": "Python 3"
    },
    "language_info": {
      "name": "python"
    },
    "accelerator": "GPU",
    "gpuClass": "standard"
  },
  "cells": [
    {
      "cell_type": "code",
      "execution_count": 17,
      "metadata": {
        "colab": {
          "base_uri": "https://localhost:8080/"
        },
        "id": "btuRaNrJcm67",
        "outputId": "d5ee4a51-b0a0-4e5b-900e-25b6544ce629"
      },
      "outputs": [
        {
          "output_type": "stream",
          "name": "stdout",
          "text": [
            "신경망 - 다층 퍼셉트론(MLP)\n",
            "입력층 - 은닉층 - 출력층\n",
            "신경망을 이용한 Classification with MLP - \n",
            "type -  <class 'sklearn.utils.Bunch'>\n",
            "keys -  dict_keys(['data', 'target', 'frame', 'target_names', 'DESCR', 'feature_names', 'filename', 'data_module'])\n",
            "\n",
            "\n",
            "data   -  [[1.799e+01 1.038e+01 1.228e+02 ... 2.654e-01 4.601e-01 1.189e-01]\n",
            " [2.057e+01 1.777e+01 1.329e+02 ... 1.860e-01 2.750e-01 8.902e-02]\n",
            " [1.969e+01 2.125e+01 1.300e+02 ... 2.430e-01 3.613e-01 8.758e-02]\n",
            " ...\n",
            " [1.660e+01 2.808e+01 1.083e+02 ... 1.418e-01 2.218e-01 7.820e-02]\n",
            " [2.060e+01 2.933e+01 1.401e+02 ... 2.650e-01 4.087e-01 1.240e-01]\n",
            " [7.760e+00 2.454e+01 4.792e+01 ... 0.000e+00 2.871e-01 7.039e-02]]\n",
            "\n",
            "target -  [0 0 0 0 0 0 0 0 0 0 0 0 0 0 0 0 0 0 0 1 1 1 0 0 0 0 0 0 0 0 0 0 0 0 0 0 0\n",
            " 1 0 0 0 0 0 0 0 0 1 0 1 1 1 1 1 0 0 1 0 0 1 1 1 1 0 1 0 0 1 1 1 1 0 1 0 0\n",
            " 1 0 1 0 0 1 1 1 0 0 1 0 0 0 1 1 1 0 1 1 0 0 1 1 1 0 0 1 1 1 1 0 1 1 0 1 1\n",
            " 1 1 1 1 1 1 0 0 0 1 0 0 1 1 1 0 0 1 0 1 0 0 1 0 0 1 1 0 1 1 0 1 1 1 1 0 1\n",
            " 1 1 1 1 1 1 1 1 0 1 1 1 1 0 0 1 0 1 1 0 0 1 1 0 0 1 1 1 1 0 1 1 0 0 0 1 0\n",
            " 1 0 1 1 1 0 1 1 0 0 1 0 0 0 0 1 0 0 0 1 0 1 0 1 1 0 1 0 0 0 0 1 1 0 0 1 1\n",
            " 1 0 1 1 1 1 1 0 0 1 1 0 1 1 0 0 1 0 1 1 1 1 0 1 1 1 1 1 0 1 0 0 0 0 0 0 0\n",
            " 0 0 0 0 0 0 0 1 1 1 1 1 1 0 1 0 1 1 0 1 1 0 1 0 0 1 1 1 1 1 1 1 1 1 1 1 1\n",
            " 1 0 1 1 0 1 0 1 1 1 1 1 1 1 1 1 1 1 1 1 1 0 1 1 1 0 1 0 1 1 1 1 0 0 0 1 1\n",
            " 1 1 0 1 0 1 0 1 1 1 0 1 1 1 1 1 1 1 0 0 0 1 1 1 1 1 1 1 1 1 1 1 0 0 1 0 0\n",
            " 0 1 0 0 1 1 1 1 1 0 1 1 1 1 1 0 1 1 1 0 1 1 0 0 1 1 1 1 1 1 0 1 1 1 1 1 1\n",
            " 1 0 1 1 1 1 1 0 1 1 0 1 1 1 1 1 1 1 1 1 1 1 1 0 1 0 0 1 0 1 1 1 1 1 0 1 1\n",
            " 0 1 0 1 1 0 1 0 1 1 1 1 1 1 1 1 0 0 1 1 1 1 1 1 0 1 1 1 1 1 1 1 1 1 1 0 1\n",
            " 1 1 1 1 1 1 0 1 0 1 1 0 1 1 1 1 1 0 0 1 0 1 0 1 1 1 1 1 0 1 1 0 1 0 1 0 0\n",
            " 1 1 1 0 1 1 1 1 1 1 1 1 1 1 1 0 1 0 0 1 1 1 1 1 1 1 1 1 1 1 1 1 1 1 1 1 1\n",
            " 1 1 1 1 1 1 1 0 0 0 0 0 0 1]\n"
          ]
        }
      ],
      "source": [
        "print('신경망 - 다층 퍼셉트론(MLP)')\n",
        "print('입력층 - 은닉층 - 출력층')\n",
        "print('신경망을 이용한 Classification with MLP - ')\n",
        "\n",
        "from sklearn.datasets          import load_breast_cancer\n",
        "from sklearn.model_selection   import train_test_split \n",
        "\n",
        "datasets = load_breast_cancer()\n",
        "print('type - ' , type(datasets))\n",
        "print('keys - ' , datasets.keys())\n",
        "print()\n",
        "print()\n",
        "print('data   - ' , datasets.data)\n",
        "print()\n",
        "print('target - ' , datasets.target)"
      ]
    },
    {
      "cell_type": "code",
      "source": [
        "X_train , X_test ,y_train , y_test = train_test_split(datasets.data   , \n",
        "                                                      datasets.target , \n",
        "                                                      test_size = 0.3 , \n",
        "                                                      random_state = 7)\n",
        "\n",
        "print(X_train.shape , X_test.shape , y_train.shape , y_test.shape)"
      ],
      "metadata": {
        "colab": {
          "base_uri": "https://localhost:8080/"
        },
        "id": "jY_wGN7cksjG",
        "outputId": "db0d0ff0-4515-4e0e-c7d8-56baa23d01ad"
      },
      "execution_count": 16,
      "outputs": [
        {
          "output_type": "stream",
          "name": "stdout",
          "text": [
            "(398, 30) (171, 30) (398,) (171,)\n"
          ]
        }
      ]
    },
    {
      "cell_type": "code",
      "source": [
        "from tensorflow.keras.models  import Sequential\n",
        "from tensorflow.keras.layers  import Activation , Dense \n",
        "\n",
        "print('1. 모델 생성 - Sequential')\n",
        "print('생성된 모델에 레이어를 추가하는 작업 - ')\n",
        "\n",
        "model = Sequential()\n",
        "\n",
        "print('입력층 명시 - ') \n",
        "model.add( Dense(10 , input_shape = (30,) ) ) \n",
        "model.add( Activation('sigmoid'))\n",
        "\n",
        "print('은닉층 명시 - ') \n",
        "model.add( Dense(10) ) \n",
        "model.add( Activation('sigmoid'))\n",
        "\n",
        "model.add( Dense(10) ) \n",
        "model.add( Activation('sigmoid'))\n",
        "\n",
        "print('출력층 명시 - ') \n",
        "model.add( Dense(1) ) \n",
        "model.add( Activation('sigmoid'))\n"
      ],
      "metadata": {
        "colab": {
          "base_uri": "https://localhost:8080/"
        },
        "id": "2B2Ir8geeb_M",
        "outputId": "79834c4b-be11-4469-bd61-63f05f9f55ba"
      },
      "execution_count": 18,
      "outputs": [
        {
          "output_type": "stream",
          "name": "stdout",
          "text": [
            "1. 모델 생성 - Sequential\n",
            "생성된 모델에 레이어를 추가하는 작업 - \n",
            "입력층 명시 - \n",
            "은닉층 명시 - \n",
            "출력층 명시 - \n"
          ]
        }
      ]
    },
    {
      "cell_type": "code",
      "source": [
        "print('2. 모델이 생성되었으면 학습 이전에 모델의 컴파일 선행이 필요 - ')\n",
        "print('3. 모델 학습 - 모델 평가')"
      ],
      "metadata": {
        "colab": {
          "base_uri": "https://localhost:8080/"
        },
        "id": "HuO5PzssfrLG",
        "outputId": "8fb1a96d-06de-4c28-a5fb-da9fce7b24b5"
      },
      "execution_count": 6,
      "outputs": [
        {
          "output_type": "stream",
          "name": "stdout",
          "text": [
            "2. 모델이 생성되었으면 학습 이전에 모델의 컴파일 선행이 필요 - \n",
            "3. 모델 학습 - 모델 평가\n"
          ]
        }
      ]
    },
    {
      "cell_type": "code",
      "source": [
        "from tensorflow.keras             import optimizers\n",
        "\n",
        "sgd = optimizers.SGD(lr = 0.01 ) \n",
        "\n",
        "model.compile( optimizer = sgd , \n",
        "               loss      = 'binary_crossentropy' , \n",
        "               metrics   = 'accuracy')\n"
      ],
      "metadata": {
        "colab": {
          "base_uri": "https://localhost:8080/"
        },
        "id": "1nSMbpNdfcRt",
        "outputId": "9404dc4f-4439-4177-e54b-2c32e78a0b22"
      },
      "execution_count": 20,
      "outputs": [
        {
          "output_type": "stream",
          "name": "stderr",
          "text": [
            "/usr/local/lib/python3.7/dist-packages/keras/optimizer_v2/gradient_descent.py:102: UserWarning: The `lr` argument is deprecated, use `learning_rate` instead.\n",
            "  super(SGD, self).__init__(name, **kwargs)\n"
          ]
        }
      ]
    },
    {
      "cell_type": "code",
      "source": [
        "print('모델 서머리 - ') \n",
        "\n",
        "model.summary()"
      ],
      "metadata": {
        "colab": {
          "base_uri": "https://localhost:8080/"
        },
        "id": "tbvOsn3agZd6",
        "outputId": "686c1081-3b5b-4ad4-959e-9029adcf1b73"
      },
      "execution_count": 21,
      "outputs": [
        {
          "output_type": "stream",
          "name": "stdout",
          "text": [
            "모델 서머리 - \n",
            "Model: \"sequential_2\"\n",
            "_________________________________________________________________\n",
            " Layer (type)                Output Shape              Param #   \n",
            "=================================================================\n",
            " dense (Dense)               (None, 10)                310       \n",
            "                                                                 \n",
            " activation (Activation)     (None, 10)                0         \n",
            "                                                                 \n",
            " dense_1 (Dense)             (None, 10)                110       \n",
            "                                                                 \n",
            " activation_1 (Activation)   (None, 10)                0         \n",
            "                                                                 \n",
            " dense_2 (Dense)             (None, 10)                110       \n",
            "                                                                 \n",
            " activation_2 (Activation)   (None, 10)                0         \n",
            "                                                                 \n",
            " dense_3 (Dense)             (None, 1)                 11        \n",
            "                                                                 \n",
            " activation_3 (Activation)   (None, 1)                 0         \n",
            "                                                                 \n",
            "=================================================================\n",
            "Total params: 541\n",
            "Trainable params: 541\n",
            "Non-trainable params: 0\n",
            "_________________________________________________________________\n"
          ]
        }
      ]
    },
    {
      "cell_type": "code",
      "source": [
        "print('모델 학습 - ') \n",
        "\n",
        "model.fit(X_train , y_train , \n",
        "          batch_size = 50 , \n",
        "          epochs     = 50 , \n",
        "          verbose    = 1) \n"
      ],
      "metadata": {
        "id": "ilwTCwa0qnLm"
      },
      "execution_count": null,
      "outputs": []
    },
    {
      "cell_type": "code",
      "source": [
        "print('모델 평가 - ') \n",
        "print(model.metrics_names)\n",
        "\n",
        "results = model.evaluate(X_test  ,y_test)\n",
        "print(results)\n",
        "print('loss     - ' , results[0])\n",
        "print('accuracy - ' , results[1])\n",
        "\n"
      ],
      "metadata": {
        "colab": {
          "base_uri": "https://localhost:8080/"
        },
        "id": "tob-xjforj7Q",
        "outputId": "cf865a31-2a17-4c43-d1d0-25ca4e78ff63"
      },
      "execution_count": 29,
      "outputs": [
        {
          "output_type": "stream",
          "name": "stdout",
          "text": [
            "모델 평가 - \n",
            "['loss', 'accuracy']\n",
            "6/6 [==============================] - 0s 3ms/step - loss: 0.6357 - accuracy: 0.6784\n",
            "[0.6356821656227112, 0.6783625483512878]\n",
            "loss     -  0.6356821656227112\n",
            "accuracy -  0.6783625483512878\n"
          ]
        }
      ]
    },
    {
      "cell_type": "code",
      "source": [
        "from sklearn.datasets          import load_breast_cancer\n",
        "from sklearn.model_selection   import train_test_split \n",
        "\n",
        "from tensorflow.keras.models   import Sequential\n",
        "from tensorflow.keras.layers   import Activation , Dense , BatchNormalization , Dropout\n",
        "from tensorflow.keras.datasets import boston_housing\n",
        "from tensorflow.keras          import optimizers\n",
        "\n",
        "\n",
        "\n",
        "print('신경망 - 다층 퍼셉트론(MLP)')\n",
        "print('입력층 - 은닉층 - 출력층')\n",
        "print('신경망을 이용한 Regression with MLP - ')"
      ],
      "metadata": {
        "colab": {
          "base_uri": "https://localhost:8080/"
        },
        "id": "uP2uefAVr9n4",
        "outputId": "08a30b88-7e82-478d-8ed9-692089957e25"
      },
      "execution_count": 62,
      "outputs": [
        {
          "output_type": "stream",
          "name": "stdout",
          "text": [
            "신경망 - 다층 퍼셉트론(MLP)\n",
            "입력층 - 은닉층 - 출력층\n",
            "신경망을 이용한 Regression with MLP - \n"
          ]
        }
      ]
    },
    {
      "cell_type": "code",
      "source": [
        "(X_train , y_train) , (X_test , y_test) = boston_housing.load_data()\n",
        "X_train.shape , y_train.shape , X_test.shape , y_test.shape"
      ],
      "metadata": {
        "colab": {
          "base_uri": "https://localhost:8080/"
        },
        "id": "9dwBqjhj_Egg",
        "outputId": "edc04222-d460-43f4-bd2d-d2d8a2d05ba7"
      },
      "execution_count": 2,
      "outputs": [
        {
          "output_type": "stream",
          "name": "stdout",
          "text": [
            "Downloading data from https://storage.googleapis.com/tensorflow/tf-keras-datasets/boston_housing.npz\n",
            "57344/57026 [==============================] - 0s 0us/step\n",
            "65536/57026 [==================================] - 0s 0us/step\n"
          ]
        },
        {
          "output_type": "execute_result",
          "data": {
            "text/plain": [
              "((404, 13), (404,), (102, 13), (102,))"
            ]
          },
          "metadata": {},
          "execution_count": 2
        }
      ]
    },
    {
      "cell_type": "code",
      "source": [
        "model = Sequential()\n",
        "\n",
        "model.add( Dense(10 , input_shape = (13,) ) ) \n",
        "model.add( Activation('sigmoid'))\n",
        "\n",
        "model.add( Dense(10) ) \n",
        "model.add( Activation('sigmoid'))\n",
        "\n",
        "model.add( Dense(10) ) \n",
        "model.add( Activation('sigmoid'))\n",
        "\n",
        "model.add( Dense(1) ) \n"
      ],
      "metadata": {
        "id": "Im6rx27y_oyc"
      },
      "execution_count": 5,
      "outputs": []
    },
    {
      "cell_type": "code",
      "source": [
        "# model = Sequential()\n",
        "\n",
        "# model.add( Dense(10  , input_shape = (13,) , activation='sigmoid') ) \n",
        "# model.add( Dense(10) , activation='sigmoid' ) \n",
        "# model.add( Dense(10) , activation='sigmoid') \n",
        "# model.add( Dense(1) ) \n",
        "\n",
        "sgd = optimizers.SGD(lr = 0.01 ) \n",
        "\n",
        "model.compile( optimizer = sgd , \n",
        "               loss      = 'mean_squared_error' , \n",
        "               metrics   = 'mse')\n",
        "\n"
      ],
      "metadata": {
        "colab": {
          "base_uri": "https://localhost:8080/"
        },
        "id": "4QgzPZ7FAGGU",
        "outputId": "64d52d0e-b684-4b14-e8fa-3c52edbc51a1"
      },
      "execution_count": 6,
      "outputs": [
        {
          "output_type": "stream",
          "name": "stderr",
          "text": [
            "/usr/local/lib/python3.7/dist-packages/keras/optimizer_v2/gradient_descent.py:102: UserWarning: The `lr` argument is deprecated, use `learning_rate` instead.\n",
            "  super(SGD, self).__init__(name, **kwargs)\n"
          ]
        }
      ]
    },
    {
      "cell_type": "code",
      "source": [
        "model.fit(X_train , y_train , \n",
        "          batch_size = 50 , \n",
        "          epochs     = 50 , \n",
        "          verbose    = 1) "
      ],
      "metadata": {
        "id": "N-4449p8B2xz"
      },
      "execution_count": null,
      "outputs": []
    },
    {
      "cell_type": "code",
      "source": [
        "print(model.metrics_names)\n",
        "\n",
        "results = model.evaluate(X_test  ,y_test)\n",
        "print(results)\n",
        "print('loss     - ' , results[0])\n",
        "print('accuracy - ' , results[1])"
      ],
      "metadata": {
        "colab": {
          "base_uri": "https://localhost:8080/"
        },
        "id": "W4jQk1aDB3oQ",
        "outputId": "0ca4e0fe-440c-464c-9010-96dad3720b67"
      },
      "execution_count": 8,
      "outputs": [
        {
          "output_type": "stream",
          "name": "stdout",
          "text": [
            "['loss', 'mse']\n",
            "4/4 [==============================] - 0s 6ms/step - loss: 88.0741 - mse: 88.0741\n",
            "[88.07408142089844, 88.07408142089844]\n",
            "loss     -  88.07408142089844\n",
            "accuracy -  88.07408142089844\n"
          ]
        }
      ]
    },
    {
      "cell_type": "code",
      "source": [
        "print('MNIST - ') \n",
        "\n",
        "from   tensorflow.keras.datasets import mnist\n",
        "import matplotlib.pyplot as plt\n"
      ],
      "metadata": {
        "colab": {
          "base_uri": "https://localhost:8080/"
        },
        "id": "J6RdFPz_CItY",
        "outputId": "0f07f674-e72c-4efe-903c-785c296cdf10"
      },
      "execution_count": 10,
      "outputs": [
        {
          "output_type": "stream",
          "name": "stdout",
          "text": [
            "MNIST - \n"
          ]
        }
      ]
    },
    {
      "cell_type": "code",
      "source": [
        "(X_train , y_train) , (X_test , y_test) = mnist.load_data() "
      ],
      "metadata": {
        "colab": {
          "base_uri": "https://localhost:8080/"
        },
        "id": "QX4zrLy9DnxL",
        "outputId": "06c9e1f7-7d89-40f1-b5b5-603eb85d0c9d"
      },
      "execution_count": 11,
      "outputs": [
        {
          "output_type": "stream",
          "name": "stdout",
          "text": [
            "Downloading data from https://storage.googleapis.com/tensorflow/tf-keras-datasets/mnist.npz\n",
            "11493376/11490434 [==============================] - 0s 0us/step\n",
            "11501568/11490434 [==============================] - 0s 0us/step\n"
          ]
        }
      ]
    },
    {
      "cell_type": "code",
      "source": [
        "X_train.shape , y_train.shape , X_test.shape , y_test.shape"
      ],
      "metadata": {
        "colab": {
          "base_uri": "https://localhost:8080/"
        },
        "id": "mt-q6Kk5D-MD",
        "outputId": "12e32846-589c-4daf-98eb-12d1a3fbd3a3"
      },
      "execution_count": 12,
      "outputs": [
        {
          "output_type": "execute_result",
          "data": {
            "text/plain": [
              "((60000, 28, 28), (60000,), (10000, 28, 28), (10000,))"
            ]
          },
          "metadata": {},
          "execution_count": 12
        }
      ]
    },
    {
      "cell_type": "code",
      "source": [
        "plt.imshow(X_train[0])\n",
        "plt.show()\n",
        "print()\n",
        "print('target - ' , y_train[0])"
      ],
      "metadata": {
        "colab": {
          "base_uri": "https://localhost:8080/",
          "height": 302
        },
        "id": "JFvEsvRaEB8h",
        "outputId": "876fbbea-93bc-47f3-dbb6-9372c9ad8b35"
      },
      "execution_count": 16,
      "outputs": [
        {
          "output_type": "display_data",
          "data": {
            "text/plain": [
              "<Figure size 432x288 with 1 Axes>"
            ],
            "image/png": "[encoded data removed]"
          },
          "metadata": {
            "needs_background": "light"
          }
        },
        {
          "output_type": "stream",
          "name": "stdout",
          "text": [
            "\n",
            "target -  5\n"
          ]
        }
      ]
    },
    {
      "cell_type": "code",
      "source": [
        "from   keras.utils.np_utils import to_categorical"
      ],
      "metadata": {
        "id": "frwNVrAeEkia"
      },
      "execution_count": 19,
      "outputs": []
    },
    {
      "cell_type": "code",
      "source": [
        "'''\n",
        "(N, 28 , 28) -> (N,  784)\n",
        "'''\n",
        "X_train = X_train.reshape( (X_train.shape[0], -1) )\n"
      ],
      "metadata": {
        "id": "gwy__UvzFhJD"
      },
      "execution_count": 23,
      "outputs": []
    },
    {
      "cell_type": "code",
      "source": [
        "X_train.shape"
      ],
      "metadata": {
        "colab": {
          "base_uri": "https://localhost:8080/"
        },
        "id": "7KXnSPjlEpEQ",
        "outputId": "6772ac5d-0d85-4597-f20e-38be65f541fd"
      },
      "execution_count": 24,
      "outputs": [
        {
          "output_type": "execute_result",
          "data": {
            "text/plain": [
              "(60000, 784)"
            ]
          },
          "metadata": {},
          "execution_count": 24
        }
      ]
    },
    {
      "cell_type": "code",
      "source": [
        "X_test = X_test.reshape( (X_test.shape[0], -1) )"
      ],
      "metadata": {
        "id": "7ncl_guGGC5g"
      },
      "execution_count": 25,
      "outputs": []
    },
    {
      "cell_type": "code",
      "source": [
        "X_test.shape"
      ],
      "metadata": {
        "colab": {
          "base_uri": "https://localhost:8080/"
        },
        "id": "u_CbHZ2wGVRD",
        "outputId": "c26e2d02-0df7-432a-b718-1b49584dbf41"
      },
      "execution_count": 26,
      "outputs": [
        {
          "output_type": "execute_result",
          "data": {
            "text/plain": [
              "(10000, 784)"
            ]
          },
          "metadata": {},
          "execution_count": 26
        }
      ]
    },
    {
      "cell_type": "code",
      "source": [
        "X_train , _ , y_train , _ = train_test_split(X_train , y_train ,\n",
        "                                             test_size = 0.6     , \n",
        "                                             random_state = 100) \n"
      ],
      "metadata": {
        "id": "PHCHVYyeGXEf"
      },
      "execution_count": 28,
      "outputs": []
    },
    {
      "cell_type": "code",
      "source": [
        "X_train.shape"
      ],
      "metadata": {
        "colab": {
          "base_uri": "https://localhost:8080/"
        },
        "id": "0b8UsNLcG5V3",
        "outputId": "da994043-c2bf-443e-a369-082323fffa25"
      },
      "execution_count": 30,
      "outputs": [
        {
          "output_type": "execute_result",
          "data": {
            "text/plain": [
              "((24000, 784), array([8, 8, 1, ..., 6, 2, 5], dtype=uint8))"
            ]
          },
          "metadata": {},
          "execution_count": 30
        }
      ]
    },
    {
      "cell_type": "code",
      "source": [
        "y_train[0]"
      ],
      "metadata": {
        "colab": {
          "base_uri": "https://localhost:8080/"
        },
        "id": "WvdF2ftaG_84",
        "outputId": "340eba87-f390-4a5b-e5c0-65bff9868a01"
      },
      "execution_count": 32,
      "outputs": [
        {
          "output_type": "execute_result",
          "data": {
            "text/plain": [
              "8"
            ]
          },
          "metadata": {},
          "execution_count": 32
        }
      ]
    },
    {
      "cell_type": "code",
      "source": [
        "y_train = to_categorical(y_train)\n",
        "y_test  = to_categorical(y_test)"
      ],
      "metadata": {
        "id": "EAh5wrWMHIXH"
      },
      "execution_count": 33,
      "outputs": []
    },
    {
      "cell_type": "code",
      "source": [
        "X_train.shape , y_train.shape , X_test.shape , y_test.shape"
      ],
      "metadata": {
        "colab": {
          "base_uri": "https://localhost:8080/"
        },
        "id": "mqXRhuu9Hakp",
        "outputId": "5abfd988-e0a0-4245-e549-5440a5aa896f"
      },
      "execution_count": 34,
      "outputs": [
        {
          "output_type": "execute_result",
          "data": {
            "text/plain": [
              "((24000, 784), (24000, 10), (10000, 784), (10000, 10))"
            ]
          },
          "metadata": {},
          "execution_count": 34
        }
      ]
    },
    {
      "cell_type": "code",
      "source": [
        ""
      ],
      "metadata": {
        "colab": {
          "base_uri": "https://localhost:8080/"
        },
        "id": "-JlTnFQQHchv",
        "outputId": "4e99bfc6-5629-44b9-9cd1-40bb2252b700"
      },
      "execution_count": 35,
      "outputs": [
        {
          "output_type": "execute_result",
          "data": {
            "text/plain": [
              "array([0., 0., 0., 0., 0., 0., 0., 1., 0., 0.], dtype=float32)"
            ]
          },
          "metadata": {},
          "execution_count": 35
        }
      ]
    },
    {
      "cell_type": "code",
      "source": [
        "print('vanilla MLP - ')\n",
        "\n",
        "model = Sequential()\n",
        "\n",
        "model.add( Dense(50 , input_shape = (784,) ) ) \n",
        "model.add( Activation('sigmoid'))\n",
        "\n",
        "\n",
        "model.add( Dense(50) ) \n",
        "model.add( Activation('sigmoid'))\n",
        "\n",
        "model.add( Dense(50) ) \n",
        "model.add( Activation('sigmoid'))\n",
        "\n",
        "model.add( Dense(50) ) \n",
        "model.add( Activation('sigmoid'))\n",
        "\n",
        "model.add( Dense(10) ) \n",
        "model.add( Activation('softmax'))\n",
        "\n",
        "sgd = optimizers.SGD(lr = 0.001 ) \n",
        "\n",
        "model.compile( optimizer = sgd , \n",
        "               loss      = 'categorical_crossentropy' , \n",
        "               metrics   = 'accuracy')\n",
        "\n",
        "history = model.fit(X_train , y_train , \n",
        "                    batch_size       = 256 , \n",
        "                    epochs           = 100 ,\n",
        "                    validation_split = 0.3 , \n",
        "                    verbose          = 1) \n",
        "\n",
        "\n"
      ],
      "metadata": {
        "id": "K6A1WXHVHifx"
      },
      "execution_count": null,
      "outputs": []
    },
    {
      "cell_type": "code",
      "source": [
        "plt.plot(history.history['accuracy'])\n",
        "plt.plot(history.history['val_accuracy'])\n",
        "\n",
        "plt.legend(['train' , 'valid'] , loc = 'best')\n",
        "\n",
        "plt.show()\n",
        "plt.close()"
      ],
      "metadata": {
        "colab": {
          "base_uri": "https://localhost:8080/",
          "height": 265
        },
        "id": "51dOuDGyNSDm",
        "outputId": "d2723487-dd8e-43ba-ce79-6ad6250369f1"
      },
      "execution_count": 40,
      "outputs": [
        {
          "output_type": "display_data",
          "data": {
            "text/plain": [
              "<Figure size 432x288 with 1 Axes>"
            ],
            "image/png": "[encoded data removed]"
          },
          "metadata": {
            "needs_background": "light"
          }
        }
      ]
    },
    {
      "cell_type": "code",
      "source": [
        "print('improving tech for MLP - ') \n",
        "\n",
        "print('1. 활성화 함수 - 옵티마이저 변경') \n",
        "print('2. 가중치 초기화 ') \n",
        "print('3. 배치 정규화')\n",
        "print('4. 드랍아웃')\n",
        "print('5. 앙상블') \n",
        "\n",
        "\n",
        "\n"
      ],
      "metadata": {
        "colab": {
          "base_uri": "https://localhost:8080/"
        },
        "id": "vhQOrX_CNmWG",
        "outputId": "63ac7c1a-aed5-404b-d814-bee68a784cd3"
      },
      "execution_count": 41,
      "outputs": [
        {
          "output_type": "stream",
          "name": "stdout",
          "text": [
            "improving tech for MLP - \n",
            "1. 활성화 함수 - 옵티마이저 변경\n",
            "2. 가중치 초기화 \n",
            "3. 배치 정규화\n",
            "4. 드랍아웃\n",
            "5. 앙상블\n"
          ]
        }
      ]
    },
    {
      "cell_type": "code",
      "source": [
        "print('가중치 초기화', 'https://keras.io/api/layers/initializers/')"
      ],
      "metadata": {
        "colab": {
          "base_uri": "https://localhost:8080/"
        },
        "id": "psRWdVTAQjLe",
        "outputId": "d3edf24f-e7e2-4481-9647-75e94e1195c8"
      },
      "execution_count": 42,
      "outputs": [
        {
          "output_type": "stream",
          "name": "stdout",
          "text": [
            "가중치 초기화 https://keras.io/api/layers/initializers/\n"
          ]
        }
      ]
    },
    {
      "cell_type": "code",
      "source": [
        "def vanilla_model() :\n",
        "  model = Sequential()\n",
        "\n",
        "  model.add( Dense(50 , input_shape = (784,) , \n",
        "             kernel_initializer = 'he_normal') ) \n",
        "  model.add( Activation('sigmoid'))\n",
        "\n",
        "\n",
        "  model.add( Dense(50 , kernel_initializer = 'he_normal') ) \n",
        "  model.add( Activation('sigmoid'))\n",
        "\n",
        "  model.add( Dense(50 , kernel_initializer = 'he_normal') ) \n",
        "  model.add( Activation('sigmoid'))\n",
        "\n",
        "  model.add( Dense(50 , kernel_initializer = 'he_normal') ) \n",
        "  model.add( Activation('sigmoid'))\n",
        "\n",
        "  model.add( Dense(10 , kernel_initializer = 'he_normal') ) \n",
        "  model.add( Activation('softmax'))\n",
        "\n",
        "  sgd = optimizers.SGD(lr = 0.001 ) \n",
        "\n",
        "  model.compile( optimizer = sgd , \n",
        "                loss      = 'categorical_crossentropy' , \n",
        "                metrics   = 'accuracy')\n",
        "  \n",
        "  return model "
      ],
      "metadata": {
        "id": "mW_7l58uQpC3"
      },
      "execution_count": 43,
      "outputs": []
    },
    {
      "cell_type": "code",
      "source": [
        "model   = vanilla_model()\n",
        "history = model.fit(X_train , y_train , \n",
        "                    batch_size       = 256 , \n",
        "                    epochs           = 100 ,\n",
        "                    validation_split = 0.3 , \n",
        "                    verbose          = 1) "
      ],
      "metadata": {
        "id": "5OBys1_KQpL9"
      },
      "execution_count": null,
      "outputs": []
    },
    {
      "cell_type": "code",
      "source": [
        "plt.plot(history.history['accuracy'])\n",
        "plt.plot(history.history['val_accuracy'])\n",
        "\n",
        "plt.legend(['train' , 'valid'] , loc = 'best')\n",
        "\n",
        "plt.show()\n",
        "plt.close()"
      ],
      "metadata": {
        "colab": {
          "base_uri": "https://localhost:8080/",
          "height": 265
        },
        "id": "qImahZlBQpO_",
        "outputId": "624c0380-3d70-4fa7-9dbf-fd4219237148"
      },
      "execution_count": 46,
      "outputs": [
        {
          "output_type": "display_data",
          "data": {
            "text/plain": [
              "<Figure size 432x288 with 1 Axes>"
            ],
            "image/png": "[encoded data removed]"
          },
          "metadata": {
            "needs_background": "light"
          }
        }
      ]
    },
    {
      "cell_type": "code",
      "source": [
        "def activation_model() :\n",
        "  model = Sequential()\n",
        "\n",
        "  model.add( Dense(50 , input_shape = (784,) , \n",
        "             kernel_initializer = 'he_normal') ) \n",
        "  model.add( Activation('relu'))\n",
        "\n",
        "\n",
        "  model.add( Dense(50 , kernel_initializer = 'he_normal') ) \n",
        "  model.add( Activation('relu'))\n",
        "\n",
        "  model.add( Dense(50 , kernel_initializer = 'he_normal') ) \n",
        "  model.add( Activation('relu'))\n",
        "\n",
        "  model.add( Dense(50 , kernel_initializer = 'he_normal') ) \n",
        "  model.add( Activation('relu'))\n",
        "\n",
        "  model.add( Dense(10 , kernel_initializer = 'he_normal') ) \n",
        "  model.add( Activation('softmax'))\n",
        "\n",
        "  sgd = optimizers.SGD(lr = 0.001 ) \n",
        "\n",
        "  model.compile( optimizer = sgd , \n",
        "                loss      = 'categorical_crossentropy' , \n",
        "                metrics   = 'accuracy')\n",
        "  \n",
        "  return model "
      ],
      "metadata": {
        "id": "G3Cn2-sOQpSJ"
      },
      "execution_count": 50,
      "outputs": []
    },
    {
      "cell_type": "code",
      "source": [
        "model   = activation_model()\n",
        "history = model.fit(X_train , y_train , \n",
        "                    batch_size       = 256 , \n",
        "                    epochs           = 100 ,\n",
        "                    validation_split = 0.3 , \n",
        "                    verbose          = 1) "
      ],
      "metadata": {
        "id": "AbtiyHAvQpVG"
      },
      "execution_count": null,
      "outputs": []
    },
    {
      "cell_type": "code",
      "source": [
        "plt.plot(history.history['accuracy'])\n",
        "plt.plot(history.history['val_accuracy'])\n",
        "\n",
        "plt.legend(['train' , 'valid'] , loc = 'best')\n",
        "\n",
        "plt.show()\n",
        "plt.close()"
      ],
      "metadata": {
        "colab": {
          "base_uri": "https://localhost:8080/",
          "height": 265
        },
        "id": "i3Pu-4jOUf4j",
        "outputId": "b9e32e3b-ee83-47f0-921f-acceb85984e7"
      },
      "execution_count": 52,
      "outputs": [
        {
          "output_type": "display_data",
          "data": {
            "text/plain": [
              "<Figure size 432x288 with 1 Axes>"
            ],
            "image/png": "[encoded data removed]"
          },
          "metadata": {
            "needs_background": "light"
          }
        }
      ]
    },
    {
      "cell_type": "code",
      "source": [
        "plt.plot(history.history['loss'])\n",
        "plt.plot(history.history['val_loss'])\n",
        "\n",
        "plt.legend(['train' , 'valid'] , loc = 'best')\n",
        "\n",
        "plt.show()\n",
        "plt.close()"
      ],
      "metadata": {
        "colab": {
          "base_uri": "https://localhost:8080/",
          "height": 265
        },
        "id": "GdodietUU9b7",
        "outputId": "ef87ee77-b726-44a0-af20-f9a240a9abcb"
      },
      "execution_count": 53,
      "outputs": [
        {
          "output_type": "display_data",
          "data": {
            "text/plain": [
              "<Figure size 432x288 with 1 Axes>"
            ],
            "image/png": "[encoded data removed]"
          },
          "metadata": {
            "needs_background": "light"
          }
        }
      ]
    },
    {
      "cell_type": "code",
      "source": [
        "def optimization_model() :\n",
        "  model = Sequential()\n",
        "\n",
        "  model.add( Dense(50 , input_shape = (784,) , \n",
        "             kernel_initializer = 'he_normal') ) \n",
        "  model.add( Activation('sigmoid'))\n",
        "\n",
        "\n",
        "  model.add( Dense(50 , kernel_initializer = 'he_normal') ) \n",
        "  model.add( Activation('sigmoid'))\n",
        "\n",
        "  model.add( Dense(50 , kernel_initializer = 'he_normal') ) \n",
        "  model.add( Activation('sigmoid'))\n",
        "\n",
        "  model.add( Dense(50 , kernel_initializer = 'he_normal') ) \n",
        "  model.add( Activation('sigmoid'))\n",
        "\n",
        "  model.add( Dense(10 , kernel_initializer = 'he_normal') ) \n",
        "  model.add( Activation('softmax'))\n",
        "\n",
        "  adam = optimizers.Adam(lr = 0.001 ) \n",
        "\n",
        "  model.compile( optimizer = adam , \n",
        "                loss       = 'categorical_crossentropy' , \n",
        "                metrics    = 'accuracy')\n",
        "  \n",
        "  return model "
      ],
      "metadata": {
        "id": "-KYdn8_AVPJL"
      },
      "execution_count": 54,
      "outputs": []
    },
    {
      "cell_type": "code",
      "source": [
        "model   = optimization_model()\n",
        "history = model.fit(X_train , y_train , \n",
        "                    batch_size       = 256 , \n",
        "                    epochs           = 100 ,\n",
        "                    validation_split = 0.3 , \n",
        "                    verbose          = 1) "
      ],
      "metadata": {
        "id": "Pi5MsylpbhGQ"
      },
      "execution_count": null,
      "outputs": []
    },
    {
      "cell_type": "code",
      "source": [
        "plt.plot(history.history['accuracy'])\n",
        "plt.plot(history.history['val_accuracy'])\n",
        "\n",
        "plt.legend(['train' , 'valid'] , loc = 'best')\n",
        "\n",
        "plt.show()\n",
        "plt.close()"
      ],
      "metadata": {
        "colab": {
          "base_uri": "https://localhost:8080/",
          "height": 265
        },
        "id": "N2bF8NMNbkpZ",
        "outputId": "192c4790-9857-4606-dbfb-cbb8ffa3799e"
      },
      "execution_count": 56,
      "outputs": [
        {
          "output_type": "display_data",
          "data": {
            "text/plain": [
              "<Figure size 432x288 with 1 Axes>"
            ],
            "image/png": "[encoded data removed]"
          },
          "metadata": {
            "needs_background": "light"
          }
        }
      ]
    },
    {
      "cell_type": "code",
      "source": [
        "def normalization_model() :\n",
        "  model = Sequential()\n",
        "\n",
        "  model.add( Dense(50 , input_shape = (784,) ) )\n",
        "  model.add( BatchNormalization()  )\n",
        "  model.add( Activation('sigmoid') ) \n",
        "\n",
        "  \n",
        "\n",
        "  model.add( Dense(50) ) \n",
        "  model.add( BatchNormalization()  )\n",
        "  model.add( Activation('sigmoid'))\n",
        "\n",
        "  model.add( Dense(50 ) )\n",
        "  model.add( BatchNormalization()  )\n",
        "  model.add( Activation('sigmoid'))\n",
        "\n",
        "  model.add( Dense(50) ) \n",
        "  model.add( BatchNormalization()  )\n",
        "  model.add( Activation('sigmoid'))\n",
        "\n",
        "  model.add( Dense(10) ) \n",
        "  model.add( Activation('softmax'))\n",
        "\n",
        "  sgd = optimizers.SGD(lr = 0.001 ) \n",
        "\n",
        "  model.compile( optimizer = sgd , \n",
        "                 loss       = 'categorical_crossentropy' , \n",
        "                 metrics    = 'accuracy')\n",
        "  \n",
        "  return model "
      ],
      "metadata": {
        "id": "W6L-mok3b4cQ"
      },
      "execution_count": 59,
      "outputs": []
    },
    {
      "cell_type": "code",
      "source": [
        "model   = normalization_model()\n",
        "history = model.fit(X_train , y_train , \n",
        "                    batch_size       = 256 , \n",
        "                    epochs           = 100 ,\n",
        "                    validation_split = 0.3 , \n",
        "                    verbose          = 1) "
      ],
      "metadata": {
        "id": "Cz9bVVAbeUXZ"
      },
      "execution_count": null,
      "outputs": []
    },
    {
      "cell_type": "code",
      "source": [
        "results = model.evaluate(X_test , y_test) \n",
        "print('acc - ' , results[1])"
      ],
      "metadata": {
        "colab": {
          "base_uri": "https://localhost:8080/"
        },
        "id": "cl5fhbLceeDe",
        "outputId": "c70aea8d-2495-4db9-8516-eb03f749c118"
      },
      "execution_count": 61,
      "outputs": [
        {
          "output_type": "stream",
          "name": "stdout",
          "text": [
            "313/313 [==============================] - 1s 4ms/step - loss: 1.1273 - accuracy: 0.8447\n",
            "acc -  0.8446999788284302\n"
          ]
        }
      ]
    },
    {
      "cell_type": "code",
      "source": [
        "def dropout_model() :\n",
        "  model = Sequential()\n",
        "\n",
        "  model.add( Dense(50 , input_shape = (784,) ) )\n",
        "  model.add( Activation('sigmoid') ) \n",
        "  model.add( Dropout(0.2)  )\n",
        "\n",
        "  model.add( Dense(50) ) \n",
        "  model.add( Activation('sigmoid'))\n",
        "  model.add( Dropout(0.2)  )\n",
        "\n",
        "  model.add( Dense(50 ) )\n",
        "  model.add( Activation('sigmoid'))\n",
        "  model.add( Dropout(0.2)  )\n",
        "\n",
        "  model.add( Dense(50) ) \n",
        "  model.add( Activation('sigmoid'))\n",
        "  model.add( Dropout(0.2)  )\n",
        "  \n",
        "  model.add( Dense(10) ) \n",
        "  model.add( Activation('softmax'))\n",
        "\n",
        "  sgd = optimizers.SGD(lr = 0.001 ) \n",
        "\n",
        "  model.compile( optimizer = sgd , \n",
        "                 loss       = 'categorical_crossentropy' , \n",
        "                 metrics    = 'accuracy')\n",
        "  \n",
        "  return model "
      ],
      "metadata": {
        "id": "vC41ZCLBe1v_"
      },
      "execution_count": 63,
      "outputs": []
    },
    {
      "cell_type": "code",
      "source": [
        "model   = dropout_model()\n",
        "history = model.fit(X_train , y_train , \n",
        "                    batch_size       = 256 , \n",
        "                    epochs           = 100 ,\n",
        "                    validation_split = 0.3 , \n",
        "                    verbose          = 1) "
      ],
      "metadata": {
        "id": "MkRZuoNOifCh"
      },
      "execution_count": null,
      "outputs": []
    },
    {
      "cell_type": "code",
      "source": [
        "plt.plot(history.history['accuracy'])\n",
        "plt.plot(history.history['val_accuracy'])\n",
        "\n",
        "plt.legend(['train' , 'valid'] , loc = 'best')\n",
        "\n",
        "plt.show()\n",
        "plt.close()"
      ],
      "metadata": {
        "colab": {
          "base_uri": "https://localhost:8080/",
          "height": 265
        },
        "id": "0l_lOms7iiQE",
        "outputId": "83deb8a8-023a-4b32-fd36-3d7b0f685ffc"
      },
      "execution_count": 65,
      "outputs": [
        {
          "output_type": "display_data",
          "data": {
            "text/plain": [
              "<Figure size 432x288 with 1 Axes>"
            ],
            "image/png": "[encoded data removed]"
          },
          "metadata": {
            "needs_background": "light"
          }
        }
      ]
    },
    {
      "cell_type": "code",
      "source": [
        "import numpy as np \n",
        "\n",
        "from tensorflow.keras.wrappers.scikit_learn import KerasClassifier\n",
        "\n",
        "from sklearn.ensemble import VotingClassifier \n",
        "from sklearn.metrics  import accuracy_score \n"
      ],
      "metadata": {
        "id": "7Hw2Bf3tjLHh"
      },
      "execution_count": 69,
      "outputs": []
    },
    {
      "cell_type": "code",
      "source": [
        "def ensemble_model() :\n",
        "  model = Sequential()\n",
        "\n",
        "  model.add( Dense(50 , input_shape = (784,) ) ) \n",
        "  model.add( Activation('sigmoid'))\n",
        "\n",
        "\n",
        "  model.add( Dense(50) ) \n",
        "  model.add( Activation('sigmoid'))\n",
        "\n",
        "  model.add( Dense(50) ) \n",
        "  model.add( Activation('sigmoid'))\n",
        "\n",
        "  model.add( Dense(50) ) \n",
        "  model.add( Activation('sigmoid'))\n",
        "\n",
        "  model.add( Dense(10) ) \n",
        "  model.add( Activation('softmax'))\n",
        "\n",
        "  sgd = optimizers.SGD(lr = 0.001 ) \n",
        "\n",
        "  model.compile( optimizer = sgd , \n",
        "                loss      = 'categorical_crossentropy' , \n",
        "                metrics   = 'accuracy')\n",
        "  \n",
        "  return model "
      ],
      "metadata": {
        "id": "cAtRJQ5ZpzJl"
      },
      "execution_count": 77,
      "outputs": []
    },
    {
      "cell_type": "code",
      "source": [
        "print('서로 다른 성능이 나쁜 모델의 생성 - ') \n",
        "mlp01 = KerasClassifier(build_fn = ensemble_model , epochs = 100 , verbose = 0) \n",
        "mlp02 = KerasClassifier(build_fn = ensemble_model , epochs = 100 , verbose = 0) \n",
        "mlp03 = KerasClassifier(build_fn = ensemble_model , epochs = 100 , verbose = 0) \n",
        "\n",
        "mlp01._estimator_type = 'classifier'\n",
        "mlp02._estimator_type = 'classifier'\n",
        "mlp03._estimator_type = 'classifier'"
      ],
      "metadata": {
        "colab": {
          "base_uri": "https://localhost:8080/"
        },
        "id": "7XRYbWPmqfZf",
        "outputId": "d955ec34-8d7d-40ff-fe28-fef2176d0fce"
      },
      "execution_count": 84,
      "outputs": [
        {
          "output_type": "stream",
          "name": "stdout",
          "text": [
            "서로 다른 성능이 나쁜 모델의 생성 - \n"
          ]
        },
        {
          "output_type": "stream",
          "name": "stderr",
          "text": [
            "/usr/local/lib/python3.7/dist-packages/ipykernel_launcher.py:2: DeprecationWarning: KerasClassifier is deprecated, use Sci-Keras (https://github.com/adriangb/scikeras) instead. See https://www.adriangb.com/scikeras/stable/migration.html for help migrating.\n",
            "  \n",
            "/usr/local/lib/python3.7/dist-packages/ipykernel_launcher.py:3: DeprecationWarning: KerasClassifier is deprecated, use Sci-Keras (https://github.com/adriangb/scikeras) instead. See https://www.adriangb.com/scikeras/stable/migration.html for help migrating.\n",
            "  This is separate from the ipykernel package so we can avoid doing imports until\n",
            "/usr/local/lib/python3.7/dist-packages/ipykernel_launcher.py:4: DeprecationWarning: KerasClassifier is deprecated, use Sci-Keras (https://github.com/adriangb/scikeras) instead. See https://www.adriangb.com/scikeras/stable/migration.html for help migrating.\n",
            "  after removing the cwd from sys.path.\n"
          ]
        }
      ]
    },
    {
      "cell_type": "code",
      "source": [
        "X_train.shape , X_test.shape , y_train.shape , y_test.shape \n"
      ],
      "metadata": {
        "colab": {
          "base_uri": "https://localhost:8080/"
        },
        "id": "FUKF_Gtkq-vI",
        "outputId": "43b17e81-9913-4028-bc70-a78cf7696150"
      },
      "execution_count": 86,
      "outputs": [
        {
          "output_type": "execute_result",
          "data": {
            "text/plain": [
              "((24000, 784), (10000, 784), (24000, 10), (10000, 10))"
            ]
          },
          "metadata": {},
          "execution_count": 86
        }
      ]
    },
    {
      "cell_type": "code",
      "source": [
        "y_train = np.argmax(y_train, axis = 1) \n",
        "y_test  = np.argmax(y_test, axis = 1)\n",
        "\n",
        "clf = VotingClassifier(estimators = [('model01' , mlp01),\n",
        "                                     ('model02' , mlp02),\n",
        "                                     ('model03' , mlp03)] , voting = 'soft' )\n",
        "\n",
        "clf.fit(X_train,  y_train)\n",
        "y_pred = clf.predict(X_test) \n",
        "\n"
      ],
      "metadata": {
        "id": "Z1FW1FRJq_TT"
      },
      "execution_count": null,
      "outputs": []
    },
    {
      "cell_type": "code",
      "source": [
        "print('acc - ' , accuracy_score(y_pred , y_test)) "
      ],
      "metadata": {
        "colab": {
          "base_uri": "https://localhost:8080/"
        },
        "id": "11C647Wsq_Wq",
        "outputId": "3645f5bf-3935-4eac-b97f-3e93d706d634"
      },
      "execution_count": 88,
      "outputs": [
        {
          "output_type": "stream",
          "name": "stdout",
          "text": [
            "acc -  0.4861\n"
          ]
        }
      ]
    },
    {
      "cell_type": "code",
      "source": [
        ""
      ],
      "metadata": {
        "id": "TCH4mr4Sq_Zu"
      },
      "execution_count": 71,
      "outputs": []
    },
    {
      "cell_type": "code",
      "source": [
        ""
      ],
      "metadata": {
        "id": "165lgGPTq_cy"
      },
      "execution_count": null,
      "outputs": []
    }
  ]
}